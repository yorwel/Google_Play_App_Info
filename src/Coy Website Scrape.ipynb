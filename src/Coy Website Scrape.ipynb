{
 "cells": [
  {
   "cell_type": "code",
   "execution_count": null,
   "metadata": {},
   "outputs": [],
   "source": [
    "# PhantomBuster - https://phantombuster.com/\n",
    "# https://www.youtube.com/watch?v=Qr_S57S6kLM&ab_channel=PhantomBuster"
   ]
  },
  {
   "cell_type": "code",
   "execution_count": 1,
   "metadata": {},
   "outputs": [
    {
     "name": "stdout",
     "output_type": "stream",
     "text": [
      "Requirement already satisfied: beautifulsoup4 in c:\\users\\royle\\appdata\\local\\packages\\pythonsoftwarefoundation.python.3.10_qbz5n2kfra8p0\\localcache\\local-packages\\python310\\site-packages (4.12.3)\n",
      "Requirement already satisfied: soupsieve>1.2 in c:\\users\\royle\\appdata\\local\\packages\\pythonsoftwarefoundation.python.3.10_qbz5n2kfra8p0\\localcache\\local-packages\\python310\\site-packages (from beautifulsoup4) (2.4.1)\n"
     ]
    },
    {
     "name": "stderr",
     "output_type": "stream",
     "text": [
      "\n",
      "[notice] A new release of pip is available: 23.2.1 -> 24.0\n",
      "[notice] To update, run: C:\\Users\\royle\\AppData\\Local\\Microsoft\\WindowsApps\\PythonSoftwareFoundation.Python.3.10_qbz5n2kfra8p0\\python.exe -m pip install --upgrade pip\n"
     ]
    },
    {
     "name": "stdout",
     "output_type": "stream",
     "text": [
      "Requirement already satisfied: selenium in c:\\users\\royle\\appdata\\local\\packages\\pythonsoftwarefoundation.python.3.10_qbz5n2kfra8p0\\localcache\\local-packages\\python310\\site-packages (4.17.2)\n",
      "Requirement already satisfied: urllib3[socks]<3,>=1.26 in c:\\users\\royle\\appdata\\local\\packages\\pythonsoftwarefoundation.python.3.10_qbz5n2kfra8p0\\localcache\\local-packages\\python310\\site-packages (from selenium) (1.26.15)\n",
      "Requirement already satisfied: trio~=0.17 in c:\\users\\royle\\appdata\\local\\packages\\pythonsoftwarefoundation.python.3.10_qbz5n2kfra8p0\\localcache\\local-packages\\python310\\site-packages (from selenium) (0.22.0)\n",
      "Requirement already satisfied: trio-websocket~=0.9 in c:\\users\\royle\\appdata\\local\\packages\\pythonsoftwarefoundation.python.3.10_qbz5n2kfra8p0\\localcache\\local-packages\\python310\\site-packages (from selenium) (0.10.2)\n",
      "Requirement already satisfied: certifi>=2021.10.8 in c:\\users\\royle\\appdata\\local\\packages\\pythonsoftwarefoundation.python.3.10_qbz5n2kfra8p0\\localcache\\local-packages\\python310\\site-packages (from selenium) (2022.12.7)\n",
      "Requirement already satisfied: typing_extensions>=4.9.0 in c:\\users\\royle\\appdata\\local\\packages\\pythonsoftwarefoundation.python.3.10_qbz5n2kfra8p0\\localcache\\local-packages\\python310\\site-packages (from selenium) (4.9.0)\n",
      "Requirement already satisfied: attrs>=19.2.0 in c:\\users\\royle\\appdata\\local\\packages\\pythonsoftwarefoundation.python.3.10_qbz5n2kfra8p0\\localcache\\local-packages\\python310\\site-packages (from trio~=0.17->selenium) (22.2.0)\n",
      "Requirement already satisfied: sortedcontainers in c:\\users\\royle\\appdata\\local\\packages\\pythonsoftwarefoundation.python.3.10_qbz5n2kfra8p0\\localcache\\local-packages\\python310\\site-packages (from trio~=0.17->selenium) (2.4.0)\n",
      "Requirement already satisfied: async-generator>=1.9 in c:\\users\\royle\\appdata\\local\\packages\\pythonsoftwarefoundation.python.3.10_qbz5n2kfra8p0\\localcache\\local-packages\\python310\\site-packages (from trio~=0.17->selenium) (1.10)\n",
      "Requirement already satisfied: idna in c:\\users\\royle\\appdata\\local\\packages\\pythonsoftwarefoundation.python.3.10_qbz5n2kfra8p0\\localcache\\local-packages\\python310\\site-packages (from trio~=0.17->selenium) (3.4)\n",
      "Requirement already satisfied: outcome in c:\\users\\royle\\appdata\\local\\packages\\pythonsoftwarefoundation.python.3.10_qbz5n2kfra8p0\\localcache\\local-packages\\python310\\site-packages (from trio~=0.17->selenium) (1.2.0)\n",
      "Requirement already satisfied: sniffio in c:\\users\\royle\\appdata\\local\\packages\\pythonsoftwarefoundation.python.3.10_qbz5n2kfra8p0\\localcache\\local-packages\\python310\\site-packages (from trio~=0.17->selenium) (1.3.0)\n",
      "Requirement already satisfied: cffi>=1.14 in c:\\users\\royle\\appdata\\local\\packages\\pythonsoftwarefoundation.python.3.10_qbz5n2kfra8p0\\localcache\\local-packages\\python310\\site-packages (from trio~=0.17->selenium) (1.15.1)\n",
      "Requirement already satisfied: exceptiongroup>=1.0.0rc9 in c:\\users\\royle\\appdata\\local\\packages\\pythonsoftwarefoundation.python.3.10_qbz5n2kfra8p0\\localcache\\local-packages\\python310\\site-packages (from trio~=0.17->selenium) (1.1.1)\n",
      "Requirement already satisfied: wsproto>=0.14 in c:\\users\\royle\\appdata\\local\\packages\\pythonsoftwarefoundation.python.3.10_qbz5n2kfra8p0\\localcache\\local-packages\\python310\\site-packages (from trio-websocket~=0.9->selenium) (1.2.0)\n",
      "Requirement already satisfied: PySocks!=1.5.7,<2.0,>=1.5.6 in c:\\users\\royle\\appdata\\local\\packages\\pythonsoftwarefoundation.python.3.10_qbz5n2kfra8p0\\localcache\\local-packages\\python310\\site-packages (from urllib3[socks]<3,>=1.26->selenium) (1.7.1)\n",
      "Requirement already satisfied: pycparser in c:\\users\\royle\\appdata\\local\\packages\\pythonsoftwarefoundation.python.3.10_qbz5n2kfra8p0\\localcache\\local-packages\\python310\\site-packages (from cffi>=1.14->trio~=0.17->selenium) (2.21)\n",
      "Requirement already satisfied: h11<1,>=0.9.0 in c:\\users\\royle\\appdata\\local\\packages\\pythonsoftwarefoundation.python.3.10_qbz5n2kfra8p0\\localcache\\local-packages\\python310\\site-packages (from wsproto>=0.14->trio-websocket~=0.9->selenium) (0.14.0)\n"
     ]
    },
    {
     "name": "stderr",
     "output_type": "stream",
     "text": [
      "\n",
      "[notice] A new release of pip is available: 23.2.1 -> 24.0\n",
      "[notice] To update, run: C:\\Users\\royle\\AppData\\Local\\Microsoft\\WindowsApps\\PythonSoftwareFoundation.Python.3.10_qbz5n2kfra8p0\\python.exe -m pip install --upgrade pip\n"
     ]
    }
   ],
   "source": [
    "# To extract the following app details from Apple App Store\n",
    "\n",
    "!pip install -U beautifulsoup4\n",
    "!pip install -U selenium"
   ]
  },
  {
   "cell_type": "code",
   "execution_count": 2,
   "metadata": {},
   "outputs": [],
   "source": [
    "Test_Website = \"https://www.unilever.com.sg/our-company/\"\n",
    "\n",
    "# list_of_websites = [\"https://www.keppel.com/en/who-we-are/about-keppel/\",\n",
    "#                    ]\n",
    "\n",
    "list_of_websites = [\"https://www.unilever.com.sg/our-company/\",\n",
    "                   \"https://www.rentokil.com/sg/about-rentokil\",\n",
    "                   \"https://www.keppel.com/en/who-we-are/about-keppel/\",\n",
    "                   \"https://dxc.com/sg/en/about-us\"]"
   ]
  },
  {
   "cell_type": "code",
   "execution_count": 3,
   "metadata": {},
   "outputs": [
    {
     "name": "stdout",
     "output_type": "stream",
     "text": [
      "Failed to retrieve the webpage (https://www.unilever.com.sg/our-company/). Status code: 403\n",
      "Failed to retrieve the webpage (https://www.rentokil.com/sg/about-rentokil). Status code: 403\n",
      "Webpage Title (https://www.keppel.com/en/who-we-are/about-keppel/): Keppel - Global asset manager and operator creating solutions for a sustainable future - About Keppel Latest share price (BN4) About Keppel We are a global asset manager and operator with strong expertise in sustainability-related solutions spanning the areas of infrastructure, real estate and connectivity. Headquartered in Singapore, Keppel operates in more than 20 countries worldwide, providing critical infrastructure and services for renewables, clean energy, decarbonisation, sustainable urban renewal and digital connectivity. Through our quality investment platforms and asset portfolios, Keppel contributes to advancing sustainable development, the energy transition and the digital economy, while creating enduring value for our stakeholders. We have a horizontally integrated model comprising three platforms: Our Fund Management Platform focuses on raising capital and forging stronger relationships with investors by bringing to them the best of Keppel’s solutions, investments and operating teams. Our Investment Platform plays a central role in driving capital deployment decisions. It drives horizontal integration by bringing together the investment and value enhancement expertise from across the Company, to create value for investors. Our Operating Platform has strong engineering capabilities and technical know-how in the areas of Infrastructure, Real Estate and Connectivity. The Operating Platform complements and further enhances Keppel’s value proposition as an asset manager and operator, and creates value for not only Keppel’s shareholders but also investors in Keppel’s private funds and listed REITs and business trust. You might also be interested in Top Useful Links Copyright © 2019 Keppel Corporation Limited. All rights reserved. Connect with us on:\n",
      "Webpage Title (https://dxc.com/sg/en/about-us): About Us Skip to content Investors Worldwide Argentina Australia Austria Belgium (en) Belgium (fr) Belgium (nl) Brazil Bulgaria Canada (en) Canada (fr) Chile China Colombia Costa Rica Croatia Czech Republic Denmark (da) Denmark (en) Ecuador Egypt Finland France Germany Hong Kong Hungary India Indonesia Ireland Italy Japan Korea Lithuania Luxembourg (en) Luxembourg (fr) Malaysia Mexico Morocco Netherlands New Zealand Nigeria Norway Panama Peru Philippines Poland Portugal Qatar Saudi Arabia Singapore South Africa Spain Sweden Switzerland Taiwan Thailand Tunisia United Arab Emirates United Kingdom United States Vietnam Offerings Our Offerings Analytics and Engineering Analytics and Engineering Consulting Data and Analytics Design and Engineering Applications Applications Applications Modernisation DXC Platform X™ DXC Software Enterprise Applications and SaaS Managed Applications Modern Applications Development Testing and Digital Assurance Cloud Infrastructure and ITO Cloud Infrastructure Cloud Advisory and Migration Services Cloud Platforms Hybrid Cloud and Multicloud Public Cloud IT Outsourcing Business Continuity Compute and Data Center Mainframe Network Storage and Backup Insurance Software and BPS Insurance Software and BPS Banking BPO Contact Center Experience Finance and Accounting Insurance BPaaS Insurance Software Modern Workplace Modern Workplace Workplace Asset Management Digital Support Services Intelligent Collaboration Modern Device Management Security Security Security Risk Management Cyber Transformation and Operations Digital Identity Infrastructure, App and Data Protection Achieve 3X business impact Digital Identity Business Continuity Insurance BPaaS Modernize on the right platforms PKO Bank Polski establishes market leadership with online mobile banking How integrated intelligent automation can modernize legacy ERP The road to automated applications management Optimize across the IT estate GoldenSource expands key financial services offerings with AWS American Airlines reaches cruising altitude DXC Public Cloud Services Optimize across the IT estate Want the full benefits of cloud? Rethink the journey. Business continuity: Keep mission-critical IT services running Uniper transforms into a digitized company through IT modernization... How BPS frameworks help insurers modernize and improve the customer experience Wilton Re takes on insurance risk profitably 5 things you need to do to scale robotic process automation Digital agents: Easing the panic in cyber incident response Optimize across the IT estate Want the full benefits of cloud? Rethink the journey. Business continuity: Keep mission-critical IT services running Uniper transforms into a digitized company through IT modernization... Get the right IT estate for workplace Checklist for business continuity with a remote workforce Rethinking where and how we work The future of work puts employee experience at the center Industries Aerospace and Defence Automotive Banking and Capital Markets Consumer and Retail Energy, Utilities, Oil and Gas Healthcare Insurance Life Sciences Manufacturing Public Sector Technology, Media and Telecommunications Travel, Transportation and Hospitality Banking and Capital Markets Consumer and Retail Insurance Travel, Transportation and Hospitality About Us About DXC Our Story Awards and Recognition DXC Partner Ecosystem Environmental, Social and Governance Events Investor Relations Leadership and Governance Newsroom Leadership and Governance Inclusion and Diversity Newsroom Mission and Values Insights Our Perspectives Customer Stories Focus on: Reframing Technical Debt Responsible AI: How to make your enterprise ethical, so that your AI is too Carrying out a mission to enhance the employee experience Manchester United & DXC: Our digital transformation partnership Driving performance innovation with Scuderia Ferrari Careers Careers Home Graduate hiring Graduate hiring Contact Us About Us We deliver the mission critical IT services that move the world. 70+ countries 130,000+ employees 240+ customers in the Fortune 500 60+ years of innovation Our story We are an IT services company using the power of technology to build better futures for our customers, colleagues, environment and communities. Our Story Awards and Recognition 2022 DXC Annual Report Our leaders Meet the executives delivering excellence for our customers, colleagues and shareholders. Executive Leadership Board of Directors What we stand for Mission and values Our mission and values drive our people and impact our customers and communities. Learn more Ethics and compliance We act with integrity. Learn more Environmental, social and governance We are committed to sustainable and responsible business practices. Learn more Inclusion and diversity We work as a team globally and locally. Learn more Investor relations Get financial news and information, resources, stock quotes, quarterly earnings reports and an events calendar of quarterly results announcements for current and prospective investors. Explore more Newsroom EXPLORE NEWSROOM DXC and Manchester United Stand ‘Shoulder to Shoulder’ in Multiyear Technology Partnership MANCHESTER, United Kingdom, July 06, 2022  —  DXC Technology (NYSE: DXC) and Manchester United (NYSE: MANU) have signed a major, multiyear partnership agreement as the football club turns to technology to transform its operations and enhance the football experience for its global fanbase. Continue reading DXC Technology Collaborates with SCG to Support Digital Transformation and Accelerate ESG Goals Enhanced digital solutions and cloud automation will transform services and security levels across SCG’s core business units and achieve its net zero emissions goals by 2050 Continue reading Meet our innovators Meet our honored technologists who achieve extraordinary results for customers and advance the state of the art for complex transformation. Learn more We partner with the best Combining strengths and our deep expertise, we deliver solutions that drive greater outcomes for our customers. Explore our partner ecosystem Connect with DXC CONTACT US Contact Us Careers Customer Stories Industries Investor Relations Newsroom Partner Ecosystem DXC Technology (NYSE: DXC) helps global companies run their mission-critical systems and operations while modernizing IT, optimizing data architectures, and ensuring security and scalability across public, private and hybrid clouds. The world's largest companies and public sector organizations trust DXC to deploy services to drive new levels of performance, competitiveness, and customer experience across their IT estates . Learn more about how we deliver excellence for our customers and colleagues at DXC.com . © DXC Technology Company Legal Privacy\n"
     ]
    }
   ],
   "source": [
    "# For Static Web Scraping\n",
    "\n",
    "import requests\n",
    "from bs4 import BeautifulSoup\n",
    "\n",
    "# Iterate through the list of websites\n",
    "for url in list_of_websites:\n",
    "    # Send a GET request to the URL\n",
    "    response = requests.get(url)\n",
    "\n",
    "    # Check if the request was successful (status code 200)\n",
    "    if response.status_code == 200:\n",
    "        # Parse the HTML content with BeautifulSoup\n",
    "        soup = BeautifulSoup(response.text, 'html.parser')\n",
    "        text_content = soup.get_text(separator=' ', strip=True)\n",
    "        # Now you can work with the soup object to extract information from the webpage\n",
    "        # For example, print the title of the webpage\n",
    "        print(f\"Webpage Title ({url}):\", text_content)\n",
    "    else:\n",
    "        print(f\"Failed to retrieve the webpage ({url}). Status code: {response.status_code}\")\n"
   ]
  },
  {
   "cell_type": "code",
   "execution_count": 4,
   "metadata": {},
   "outputs": [
    {
     "name": "stdout",
     "output_type": "stream",
     "text": [
      "Transformed Company Queries: ['the-body-shop', 'stickies-bar-pte-ltd', 'careersgov', 'accounting-and-corporate-regulatory-authority-acra-']\n",
      "LinkedIn URLs: ['https://www.linkedin.com/company/the-body-shop/about', 'https://www.linkedin.com/company/stickies-bar-pte-ltd/about', 'https://www.linkedin.com/company/careersgov/about', 'https://www.linkedin.com/company/accounting-and-corporate-regulatory-authority-acra-/about']\n"
     ]
    }
   ],
   "source": [
    "company_queries = [\"the body shop\", \"stickies bar pte ltd\", \"careersgov\", \"accounting-and-corporate-regulatory-authority-acra-\"]\n",
    "transformed_company_queries = []\n",
    "linkedin_urls = []\n",
    "\n",
    "for coy_query in company_queries:\n",
    "    transformed_query = coy_query.replace(\" \", \"-\")\n",
    "    transformed_company_queries.append(transformed_query)\n",
    "    url = 'https://www.linkedin.com/company/' + transformed_query + '/about'\n",
    "    linkedin_urls.append(url)\n",
    "\n",
    "# Print the list of transformed company queries\n",
    "print(\"Transformed Company Queries:\", transformed_company_queries)\n",
    "\n",
    "# Print the list of LinkedIn URLs\n",
    "print(\"LinkedIn URLs:\", linkedin_urls)"
   ]
  },
  {
   "cell_type": "code",
   "execution_count": 5,
   "metadata": {},
   "outputs": [],
   "source": [
    "# For Dynamic Web Scraping\n",
    "# need to download chrome driver - https://googlechromelabs.github.io/chrome-for-testing/\n",
    "\n",
    "import time\n",
    "from bs4 import BeautifulSoup\n",
    "from selenium import webdriver\n",
    "from selenium.webdriver.chrome.service import Service\n",
    "\n",
    "# Specify the path to ChromeDriver\n",
    "chrome_driver_path = \"C:\\\\Users\\\\royle\\\\Desktop\\\\chromedriver-win64\\\\chromedriver.exe\"\n",
    "chrome_service = Service(chrome_driver_path)\n",
    "\n",
    "# Create a Chrome WebDriver instance\n",
    "driver = webdriver.Chrome(service=chrome_service)\n",
    "\n",
    "# Navigate to the LinkedIn login page\n",
    "driver.get('https://www.linkedin.com/login')\n",
    "\n",
    "# Locate the username/email and password input fields\n",
    "username_field = driver.find_element(\"id\", \"username\") \n",
    "password_field = driver.find_element(\"id\", \"password\") \n",
    "\n",
    "# Enter the username/email and password\n",
    "username_field.send_keys('nusebac@gmail.com')\n",
    "password_field.send_keys('Nusebac1990!')\n",
    "\n",
    "# Find and click the login button\n",
    "login_button = driver.find_element(\"id\", \"organic-div\")\n",
    "login_button.click()\n",
    "\n",
    "# Introduce a load time between requests (e.g., 3 seconds)\n",
    "time.sleep(5)"
   ]
  },
  {
   "cell_type": "code",
   "execution_count": 6,
   "metadata": {},
   "outputs": [
    {
     "name": "stdout",
     "output_type": "stream",
     "text": [
      "Company: the-body-shop\n",
      "Org Category: Retail\n",
      "Org Website: https://www.thebodyshopcareers.com/\n",
      "Text Content: The Body Shop International Limited is the original natural and ethical beauty brand. \n",
      "\n",
      "Our heritage is an amazing story of firsts. \n",
      "\n",
      "The first to create Body Butter, the first to use manmade musk in fragrance rather than cruelly-extracted deer musk, the first to transform the beauty industry with fair trade ingredients.\n",
      "\n",
      "For 40 years The Body Shop showed the world that business could be a force for good, anchored in Anita Roddick’s pioneering approach to doing business. Our Commitment for the next 40 years, Enrich Not Exploit™, has three elements: Enrich Our People - Enrich Our Planet - Enrich Our Products.\n",
      "\n",
      "We exist to make a positive difference to people’s lives. We create superior quality products using the world’s finest natural ingredients to make your skin feel so good.\n",
      "\n",
      "We have over 3000 stores in 68 countries, and reach out to customers around the world through launching e-commerce sites, opening sub-franchise businesses and identifying selective wholesale in new markets plus adding new Global Travel Retail locations around the world. \n",
      "\n",
      "Our people are passionate, independent, diverse individuals. \n",
      "Sounds like you? Join us!\n",
      "Company: stickies-bar-pte-ltd\n",
      "Org Category: Food and Beverage Services\n",
      "Org Website: https://www.stickiesbar.com/\n",
      "Text Content: Text content not found.\n",
      "Company: careersgov\n",
      "Org Category: Government Administration\n",
      "Org Website: http://www.careers.gov.sg/\n",
      "Text Content: Singapore’s success comes from the hard work of our people. From all walks of life and spanning many cultures, we are united by the common goal of making our home a better place to live in. We are looking for people, who share this same passion for our home, to join us.\n",
      "\n",
      "The Singapore Public Service has a growing team of people who want to play a role in building our nation. Whether it is teaching our children, keeping our communities safe or planning our national budgets, there is a place for you. With your drive and determination, Singapore will make an even better home.\n",
      "\n",
      "We want you to have opportunities for personal and professional growth. We value what is important to you because it is important for us too. The work that you do will not only support your family, it will also create a long-lasting impact that benefits your friends, neighbours and people around you in our nation.\n",
      "\n",
      "Visit our website and join us on Facebook to find out how you can get started.\n",
      "\n",
      "www.careers.gov.sg\n",
      "www.facebook.com/CareersGov\n",
      "Company: accounting-and-corporate-regulatory-authority-acra-\n",
      "Org Category: Government Administration\n",
      "Org Website: http://www.acra.gov.sg/\n",
      "Text Content: The Accounting and Corporate Regulatory Authority (ACRA) is the national regulator of business entities, public accountants and corporate service providers in Singapore. ACRA also plays the role of a facilitator for the development of business entities and the public accountancy profession. The mission of ACRA is to foster a vibrant & trusted business environment that enables innovation and growth. Our people are proactive and self-starters, empowered to create value and grow their careers in an environment that fosters trust and respect. Embark on a rewarding and empowering career with us and get the latest updates on careers at ACRA, visit www.acra.gov.sg/careers\n",
      "\n",
      "Terms of Use\n",
      " \n",
      "Welcome to the official ACRA LinkedIn page. While we welcome constructive feedback and civil discussions, we have some guidelines to ensure a positive experience for all.\n",
      " \n",
      "All users must comply with ACRA’s Terms of Use and LinkedIn’s Professional Community Policies for the ACRA LinkedIn Page. We request that users do not post comments of the following nature:\n",
      " \n",
      "1.\tComments containing profane, defamatory, obscene or violent language\n",
      "2.\t“Trolling” comments or those that are disruptive to discussions\n",
      "3.\tHateful or discriminatory comments\n",
      "4.\tComments that are abusive, harassing, or threatening towards others\n",
      "5.\tSpam or comments with links that contain viruses or programs\n",
      "6.\tComments that advertise, promote or endorse any products, services or brands\n",
      "7.\tComments that violate any copyright or intellectual property rights\n",
      "8.\tComments that violate any laws or regulations\n",
      "\n",
      "ACRA reserves the right to remove any posts which do not adhere to our Terms of Use above, and LinkedIn’s Professional Community Policies (https://www.linkedin.com/legal/professional-community-policies). We also reserve the right to remove any post we find off-topic, inappropriate or objectionable and will block any user who violates these guidelines from participating in this page. Thank you.\n"
     ]
    }
   ],
   "source": [
    "# Loop through each company query\n",
    "for coy_query in transformed_company_queries:\n",
    "    # Get company URL\n",
    "    url = 'https://www.linkedin.com/company/' + coy_query + '/about'\n",
    "    driver.get(url)\n",
    "\n",
    "    time.sleep(5)\n",
    "\n",
    "    # Use Beautiful Soup to extract text content\n",
    "    soup = BeautifulSoup(driver.page_source, \"html.parser\")\n",
    "    org_details = soup.find_all(\"dd\", class_=\"mb4 t-black--light text-body-medium\")\n",
    "\n",
    "    # org_category = soup.find_all(\"dd\", class_=\"mb4 t-black--light text-body-medium\")[4].text.strip()\n",
    "    org_category = soup.find_all(\"div\", class_=\"org-top-card-summary-info-list__info-item\")[0].text.strip()\n",
    "\n",
    "    org_website_raw = soup.find_all(\"span\", class_=\"link-without-visited-state\")\n",
    "    org_website = next((span for span in org_website_raw if \"http\" in span.get_text()), None).text.strip()\n",
    "    \n",
    "    try:\n",
    "        text_content = soup.find(\"p\", class_=\"break-words white-space-pre-wrap t-black--light text-body-medium\").text.strip()\n",
    "    except AttributeError:\n",
    "        text_content = \"Text content not found.\"\n",
    "    # Print text content or process it as needed\n",
    "    print(f\"Company: {coy_query}\")\n",
    "    print(f\"Org Category: {org_category}\")\n",
    "    print(f\"Org Website: {org_website if org_website else 'Not available'}\")\n",
    "    print(f\"Text Content: {text_content if text_content else 'Not available'}\")\n",
    "\n",
    "time.sleep(5)\n",
    "\n",
    "# Close the WebDriver when done\n",
    "# driver.quit()"
   ]
  }
 ],
 "metadata": {
  "kernelspec": {
   "display_name": "Python 3",
   "language": "python",
   "name": "python3"
  },
  "language_info": {
   "codemirror_mode": {
    "name": "ipython",
    "version": 3
   },
   "file_extension": ".py",
   "mimetype": "text/x-python",
   "name": "python",
   "nbconvert_exporter": "python",
   "pygments_lexer": "ipython3",
   "version": "3.10.11"
  }
 },
 "nbformat": 4,
 "nbformat_minor": 2
}
